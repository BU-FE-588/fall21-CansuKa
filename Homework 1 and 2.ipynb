{
 "cells": [
  {
   "cell_type": "markdown",
   "metadata": {},
   "source": [
    "# Homework 1 and 2 due November 23$^{th}$, 2021\n",
    "\n",
    "The aim of this homework is to practive the concepts of basic data structures, control flows and loops in Python. You are expected to use GitHub Classroom and present your work as an html file (i.e. web page) on your progress journals. You can use this jupyter notebook as template to provide your answers."
   ]
  },
  {
   "cell_type": "markdown",
   "metadata": {},
   "source": [
    "## Task 1\n",
    "Implement a Python program to input two numbers and perform all arithmetic operations. You are expected to find the sum, difference, product, quotient and remainder of two given numbers. \n",
    "\n",
    "\n",
    "What is the first number? 4\n",
    "What is the second number? 2.5\n",
    "The sum is 6.5\n",
    "The difference is 1.5\n",
    "The product is 8.0\n",
    "The integer quotient is 2\n",
    "The floating-point quotient is 1.6"
   ]
  },
  {
   "cell_type": "code",
   "execution_count": null,
   "metadata": {},
   "outputs": [],
   "source": [
    "x = int(input(\"What is the first number? \"))\n",
    "y = int(input(\"What is the second number? \"))\n",
    "\n",
    "print(\"The sum is: \", x+y)\n",
    "print(\"The difference is: \", x-y)\n",
    "print(\"The product is: \", x*y)\n",
    "print(\"The integer quotient is: \", x/y)\n",
    "print(\"The floating-point quotient is: \", x/y)\n"
   ]
  },
  {
   "cell_type": "markdown",
   "metadata": {},
   "source": [
    "## Task 2\n",
    "Implement a Python program to input length and width of a rectangle and find area of the given rectangle. "
   ]
  },
  {
   "cell_type": "code",
   "execution_count": null,
   "metadata": {},
   "outputs": [],
   "source": [
    "while len(factors)>0:\n",
    "\n",
    "    l = factors[0]\n",
    "    w = factors[-1]\n",
    "\n",
    "    print(\"The eight possibilites for the lenghth of\", l, \"and the width of\", w, \"are: \")\n",
    "    print()\n",
    "\n",
    "    first = (x + w,y + l)\n",
    "\n",
    "    print (\"The First Rectangle is the one which is constructed between the point\", original_coordinate, \"and\", first)\n",
    "    print (\"\")"
   ]
  },
  {
   "cell_type": "markdown",
   "metadata": {},
   "source": [
    "## Task 3\n",
    "Implement a Python program to input any decimal number from user and convert it to binary number system (i.e. base-2 number system)"
   ]
  },
  {
   "cell_type": "code",
   "execution_count": null,
   "metadata": {},
   "outputs": [],
   "source": [
    "dec = 344\n",
    "\n",
    "print(\"The decimal value of\", dec, \"is:\")\n",
    "print(bin(dec), \"in binary.\")\n",
    "print(oct(dec), \"in octal.\")\n",
    "print(hex(dec), \"in hexadecimal.\")"
   ]
  },
  {
   "cell_type": "markdown",
   "metadata": {},
   "source": [
    "## Task 4\n",
    "Implement a Python program to input a number and check whether number is even or odd using if/else statements.\n",
    "\n",
    "Example:\n",
    "Input <br>\n",
    "Input num: 25 <br>\n",
    "Output <br>\n",
    "25 is odd."
   ]
  },
  {
   "cell_type": "code",
   "execution_count": null,
   "metadata": {},
   "outputs": [],
   "source": [
    "num=int(input(\"Enter a number for check odd or even: \"))\n",
    "def find_Evenodd(num):\n",
    "    \n",
    "    if(num%2==0):\n",
    "        print(num,\" Is an even\")\n",
    "    else:\n",
    "        print(num,\" is an odd\")\n",
    "find_Evenodd(num);//function call"
   ]
  },
  {
   "cell_type": "markdown",
   "metadata": {},
   "source": [
    "## Task 5\n",
    "Implement a Python program to check if input year is a leap year using if/else statements."
   ]
  },
  {
   "cell_type": "code",
   "execution_count": null,
   "metadata": {},
   "outputs": [],
   "source": [
    "Year = 2024\n",
    "if (Year % 4) == 0:\n",
    "   if (Year % 100) == 0:\n",
    "       if (Year % 400) == 0:\n",
    "           print(\"{0} is a leap year\".format(Year))\n",
    "       else:\n",
    "           print(\"{0} is not a leap year\".format(Year))\n",
    "   else:\n",
    "       print(\"{0} is a leap year\".format(Year))\n",
    "else:\n",
    "   print(\"{0} is not a leap year\".format(Year))"
   ]
  },
  {
   "cell_type": "markdown",
   "metadata": {},
   "source": [
    "## Task 6\n",
    "Implement a Python program to print all natural numbers from 1 to n using loop.\n",
    "\n",
    "Input number:8\n",
    "\n",
    "1\n",
    "2\n",
    "3\n",
    "4\n",
    "5\n",
    "6\n",
    "7\n",
    "8"
   ]
  },
  {
   "cell_type": "code",
   "execution_count": null,
   "metadata": {},
   "outputs": [],
   "source": [
    "def natural_num(n):\n",
    "    try:\n",
    "        n=int(n)\n",
    "        for x in range(1,n+1):\n",
    "            print(x)\n",
    "    except Exception as e:\n",
    "        print(e)\n",
    "        print(\"Is {} number?\".format(num1))\n",
    "n=input(\"Input Number: \")\n",
    "natural_num(n)"
   ]
  },
  {
   "cell_type": "markdown",
   "metadata": {},
   "source": [
    "## Task 7\n",
    "Implement a Python program to input a number from user and swap first and last digit of the given number. This task is easy to perform when input is transformed to a string. However, the aim here is to make use of mathematical operations to perform the swapping operation. One way to perform this task is to divide the input number by 10 until you are left with the first digit. The remainder from the first division is the last digit. Note that there are alternative approaches to perform the same task.\n",
    "\n",
    "I used swaping the first and last element using tuple variable. Store the first and last element as a pair in a tuple variable, say get, and unpack those elements with first and last element in that list. Now, the First and last values in that list are swapped. (Output is [24, 35, 9, 56, 12])"
   ]
  },
  {
   "cell_type": "code",
   "execution_count": null,
   "metadata": {},
   "outputs": [],
   "source": [
    "# Python3 program to swap first\n",
    "# and last element of a list\n",
    " \n",
    "# Swap function\n",
    "def swapList(list):\n",
    "     \n",
    "    # Storing the first and last element\n",
    "    # as a pair in a tuple variable get\n",
    "    get = list[-1], list[0]\n",
    "     \n",
    "    # unpacking those elements\n",
    "    list[0], list[-1] = get\n",
    "     \n",
    "    return list\n",
    "     \n",
    "# Driver code\n",
    "newList = [12, 35, 9, 56, 24]\n",
    "print(swapList(newList))"
   ]
  },
  {
   "cell_type": "markdown",
   "metadata": {},
   "source": [
    "## Task 8\n",
    "Implement a Python program to input any number from user and find cube of the given number using function. "
   ]
  },
  {
   "cell_type": "code",
   "execution_count": null,
   "metadata": {},
   "outputs": [],
   "source": [
    "# Python Program to Calculate Cube of a Number\n",
    "\n",
    "#To take input from user\n",
    "number = float(input(\"Enter any numeric Value: \"))\n",
    "\n",
    "cube = number * number * number\n",
    "\n",
    "print(\"The Cube of a Given Number {0}  = {1}\".format(number, cube))"
   ]
  },
  {
   "cell_type": "markdown",
   "metadata": {},
   "source": [
    "## Task 9\n",
    "Write a function to find prime numbers between two integers (i.e. lower and upper bound). Note that you need to control if provided bounds are positive (at least upper bound should be some positive number) and upper bound is larger than provided lower bound."
   ]
  },
  {
   "cell_type": "code",
   "execution_count": null,
   "metadata": {},
   "outputs": [],
   "source": [
    "lower = int(input(\"Enter lower range: \"))  \n",
    "upper = int(input(\"Enter upper range: \"))  \n",
    "  \n",
    "for num in range(lower,upper + 1):  \n",
    "   if num > 1:  \n",
    "       for i in range(2,num):  \n",
    "           if (num % i) == 0:  \n",
    "               break  \n",
    "       else:  \n",
    "           print(num) "
   ]
  },
  {
   "cell_type": "markdown",
   "metadata": {},
   "source": [
    "## Task 10\n",
    "Implement a Python program that takes a list with numerical elements and find the sum of list elements."
   ]
  },
  {
   "cell_type": "code",
   "execution_count": null,
   "metadata": {},
   "outputs": [],
   "source": [
    "l1 = [1, 2, 3, 'A']\n",
    "\n",
    "sum(filter(lambda i: isinstance(i, int), l1))\n",
    "\n",
    "# prints 6"
   ]
  },
  {
   "cell_type": "markdown",
   "metadata": {},
   "source": [
    "## Task 11\n",
    "Implement a Python program that takes an integer list and find frequency of each element in list. There are built-in functions to perform this task in Python however you are expected perform this task using loops. Example:\n",
    "\n",
    "\n",
    "Input\n",
    "Input array elements: 4, 9, 9, 5, 100, 1, 2, 1, 2\n",
    "\n",
    "Output <br>\n",
    "Frequency of 4 = 1  <br>\n",
    "Frequency of 9 = 2  <br>\n",
    "Frequency of 5 = 1  <br>\n",
    "Frequency of 100 = 1  <br>\n",
    "Frequency of 1 = 2  <br>\n",
    "Frequency of 2 = 2  <br>"
   ]
  },
  {
   "cell_type": "code",
   "execution_count": null,
   "metadata": {},
   "outputs": [],
   "source": [
    "def CountFrequency(my_list):\n",
    " \n",
    "    # Creating an empty dictionary\n",
    "    freq = {}\n",
    "    for item in my_list:\n",
    "        if (item in freq):\n",
    "            freq[item] += 1\n",
    "        else:\n",
    "            freq[item] = 1\n",
    " \n",
    "    for key, value in freq.items():\n",
    "        print (\"Frequency of% d =% d\"%(key, value))\n",
    " \n",
    "# Driver function\n",
    "if __name__ == \"__main__\":\n",
    "    my_list =[1, 1, 1, 5, 5, 3, 1, 3, 3, 1, 4, 4, 4, 2, 2, 2, 2]\n",
    " \n",
    "    CountFrequency(my_list)"
   ]
  },
  {
   "cell_type": "markdown",
   "metadata": {},
   "source": [
    "## Task 12\n",
    "Implement a Python program that reads the side (side sizes between 1 and 5 ) of a square and prints square using hash (#) character.\n",
    "\n",
    "Input: 5\n",
    "Sample Output: <br>\n",
    "Input the size of the square:  <br>\n",
    " $ # # # # # $ <br>\n",
    " $ # # # # # $ <br>\n",
    " $ # # # # # $ <br>\n",
    " $ # # # # # $ <br>\n",
    " $ # # # # # $ <br>"
   ]
  },
  {
   "cell_type": "code",
   "execution_count": null,
   "metadata": {},
   "outputs": [],
   "source": [
    "#Side sizes between 1 and 5\n",
    "\n",
    "def square_size(n):\n",
    "    if n>=1 and n<=5:\n",
    "        printing=\"#\"*n\n",
    "        for i in range(n):\n",
    "            print(printing)\n",
    "            \n",
    "size=input(\"Input the size of the square: \")\n",
    "square_size(int(size))"
   ]
  }
 ],
 "metadata": {
  "kernelspec": {
   "display_name": "Python 3 (ipykernel)",
   "language": "python",
   "name": "python3"
  },
  "language_info": {
   "codemirror_mode": {
    "name": "ipython",
    "version": 3
   },
   "file_extension": ".py",
   "mimetype": "text/x-python",
   "name": "python",
   "nbconvert_exporter": "python",
   "pygments_lexer": "ipython3",
   "version": "3.9.7"
  }
 },
 "nbformat": 4,
 "nbformat_minor": 2
}
